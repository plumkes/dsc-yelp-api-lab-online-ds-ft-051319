{
 "cells": [
  {
   "cell_type": "markdown",
   "metadata": {},
   "source": [
    "# Yelp API - Lab\n",
    "\n",
    "\n",
    "## Introduction \n",
    "\n",
    "Now that we've seen how the Yelp API works and some basic Folium visualizations, it's time to put those skills to work in order to create a working map! Taking things a step further, you'll also independently explore how to perform pagination in order to retrieve a full results set from the Yelp API!\n",
    "\n",
    "## Objectives\n",
    "\n",
    "You will be able to: \n",
    "* Create HTTP requests to get data from Yelp API\n",
    "* Parse HTTP responses and perform data analysis on the data returned\n",
    "* Perform pagination to retrieve troves of data!\n",
    "* Create a simple geographical system on to view information about selected businesses, at a given location. \n",
    "\n",
    "## Problem Introduction\n",
    "\n",
    "You've now worked with some API calls, but we have yet to see how to retrieve a more complete dataset in a programmatic manner. Returning to the Yelp API, the [documentation](https://www.yelp.com/developers/documentation/v3/business_search) also provides us details regarding the API limits. These often include details about the number of requests a user is allowed to make within a specified time limit and the maximum number of results to be returned. In this case, we are told that any request has a maximum of 50 results per request and defaults to 20. Furthermore, any search will be limited to a total of 1000 results. To retrieve all 1000 of these results, we would have to page through the results piece by piece, retrieving 50 at a time. Processes such as these are often referred to as pagination.\n",
    "\n",
    "In this lab, you will define a search and then paginate over the results to retrieve all of the results. You'll then parse these responses as a DataFrame (for further exploration) and create a map using Folium to visualize the results geographically.\n",
    "\n",
    "## Part I - Make the Initial Request\n",
    "\n",
    "Start by making an initial request to the Yelp API. Your search must include at least 2 parameters: **term** and **location**. For example, you might search for pizza restaurants in NYC. The term and location is up to you, but make the request below."
   ]
  },
  {
   "cell_type": "code",
   "execution_count": 3,
   "metadata": {},
   "outputs": [],
   "source": [
    "import requests\n",
    "import pandas as pd"
   ]
  },
  {
   "cell_type": "code",
   "execution_count": 13,
   "metadata": {},
   "outputs": [],
   "source": [
    "client_id = \"XVCFoRClYrIK9izclSWg7g\"\n",
    "api_key = \"eno701QVBmi3MdQpe3NJjectAlPVXyD5AGz-FBUUcuv7qy6-d9WSegHRgjVFwR1K0ZgLBnUzroveqQLTMJgJ2Sy5tr7reP-lENYAy9Z7vKIII-KnK2o588Aiv-3-XHYx\""
   ]
  },
  {
   "cell_type": "code",
   "execution_count": 21,
   "metadata": {},
   "outputs": [],
   "source": [
    "term = 'coffee'\n",
    "location = \"Dallas TX\"\n",
    "search_limit = 10\n",
    "\n",
    "url = 'https://api.yelp.com/v3/businesses/search'\n",
    "\n",
    "header = {\"Authorization\":\"Bearer {}\".format(api_key)}\n",
    "\n",
    "url_params = {'term' : term.replace(' ','+'),\n",
    "              'location' : location.replace(' ','+'),\n",
    "              'limit' : search_limit}"
   ]
  },
  {
   "cell_type": "code",
   "execution_count": 22,
   "metadata": {},
   "outputs": [
    {
     "name": "stdout",
     "output_type": "stream",
     "text": [
      "{'term': 'coffee', 'location': 'Dallas+TX', 'limit': 10}\n"
     ]
    }
   ],
   "source": [
    "print(url_params)"
   ]
  },
  {
   "cell_type": "code",
   "execution_count": 23,
   "metadata": {},
   "outputs": [],
   "source": [
    "dfw = requests.get(url, headers=header, params=url_params)"
   ]
  },
  {
   "cell_type": "code",
   "execution_count": 24,
   "metadata": {
    "scrolled": true
   },
   "outputs": [
    {
     "name": "stdout",
     "output_type": "stream",
     "text": [
      "{\"businesses\": [{\"id\": \"wTowe0y_AITgrYQHfuNm6g\", \"alias\": \"merit-coffee-dallas\", \"name\": \"Merit Coffee\", \"image_url\": \"https://s3-media4.fl.yelpcdn.com/bphoto/5jGts5qx-s2U6OpC50JSdw/o.jpg\", \"is_closed\": false, \"url\": \"https://www.yelp.com/biz/merit-coffee-dallas?adjust_creative=XVCFoRClYrIK9izclSWg7g&utm_campaign=yelp_api_v3&utm_medium=api_v3_business_search&utm_source=XVCFoRClYrIK9izclSWg7g\", \"review_count\": 19, \"categories\": [{\"alias\": \"coffee\", \"title\": \"Coffee & Tea\"}], \"rating\": 5.0, \"coordinates\": {\"latitude\": 32.78392, \"longitude\": -96.78487}, \"transactions\": [], \"location\": {\"address1\": \"2639 Main St\", \"address2\": \"Ste 140\", \"address3\": null, \"city\": \"Dallas\", \"zip_code\": \"75226\", \"country\": \"US\", \"state\": \"TX\", \"display_address\": [\"2639 Main St\", \"Ste 140\", \"Dallas, TX 75226\"]}, \"phone\": \"+14692483440\", \"display_phone\": \"(469) 248-3440\", \"distance\": 6300.367803590965}, {\"id\": \"eDft8KCi0nA-tGJFmR7xww\", \"alias\": \"la-la-land-kind-cafe-dallas\", \"name\": \"La La Land Kind Cafe\", \"image_url\": \"https://s3-media3.fl.yelpcdn.com/bphoto/dJ-BHmVUvckdN9a0fmDsag/o.jpg\", \"is_closed\": false, \"url\": \"https://www.yelp.com/biz/la-la-land-kind-cafe-dallas?adjust_creative=XVCFoRClYrIK9izclSWg7g&utm_campaign=yelp_api_v3&utm_medium=api_v3_business_search&utm_source=XVCFoRClYrIK9izclSWg7g\", \"review_count\": 149, \"categories\": [{\"alias\": \"coffee\", \"title\": \"Coffee & Tea\"}, {\"alias\": \"cafes\", \"title\": \"Cafes\"}], \"rating\": 4.5, \"coordinates\": {\"latitude\": 32.81528, \"longitude\": -96.77114}, \"transactions\": [], \"price\": \"$\", \"location\": {\"address1\": \"5626 Bell Ave\", \"address2\": null, \"address3\": \"\", \"city\": \"Dallas\", \"zip_code\": \"75206\", \"country\": \"US\", \"state\": \"TX\", \"display_address\": [\"5626 Bell Ave\", \"Dallas, TX 75206\"]}, \"phone\": \"+12145799550\", \"display_phone\": \"(214) 579-9550\", \"distance\": 3810.804517474226}, {\"id\": \"RorY8SkHmDztoyazx_TgPg\", \"alias\": \"ldu-coffee-dallas\", \"name\": \"LDU Coffee\", \"image_url\": \"https://s3-media2.fl.yelpcdn.com/bphoto/KYZ3FSpZwcUW97KIIZxOoQ/o.jpg\", \"is_closed\": false, \"url\": \"https://www.yelp.com/biz/ldu-coffee-dallas?adjust_creative=XVCFoRClYrIK9izclSWg7g&utm_campaign=yelp_api_v3&utm_medium=api_v3_business_search&utm_source=XVCFoRClYrIK9izclSWg7g\", \"review_count\": 180, \"categories\": [{\"alias\": \"coffee\", \"title\": \"Coffee & Tea\"}], \"rating\": 5.0, \"coordinates\": {\"latitude\": 32.81444, \"longitude\": -96.78511}, \"transactions\": [], \"price\": \"$\", \"location\": {\"address1\": \"2650 N Fitzhugh Ave\", \"address2\": \"Ste 100\", \"address3\": \"\", \"city\": \"Dallas\", \"zip_code\": \"75206\", \"country\": \"US\", \"state\": \"TX\", \"display_address\": [\"2650 N Fitzhugh Ave\", \"Ste 100\", \"Dallas, TX 75206\"]}, \"phone\": \"\", \"display_phone\": \"\", \"distance\": 3095.439162978167}, {\"id\": \"m5Pk92O3CFuwqZistyXNhQ\", \"alias\": \"pearl-cup-coffee-dallas-6\", \"name\": \"Pearl Cup Coffee\", \"image_url\": \"https://s3-media4.fl.yelpcdn.com/bphoto/V6Tr0Xxn5AkQFDiASdjIQQ/o.jpg\", \"is_closed\": false, \"url\": \"https://www.yelp.com/biz/pearl-cup-coffee-dallas-6?adjust_creative=XVCFoRClYrIK9izclSWg7g&utm_campaign=yelp_api_v3&utm_medium=api_v3_business_search&utm_source=XVCFoRClYrIK9izclSWg7g\", \"review_count\": 11, \"categories\": [{\"alias\": \"wine_bars\", \"title\": \"Wine Bars\"}, {\"alias\": \"coffee\", \"title\": \"Coffee & Tea\"}, {\"alias\": \"breakfast_brunch\", \"title\": \"Breakfast & Brunch\"}], \"rating\": 5.0, \"coordinates\": {\"latitude\": 32.881744533467, \"longitude\": -96.7708426581934}, \"transactions\": [], \"location\": {\"address1\": \"7865 Firefall Way\", \"address2\": \"Ste F180\", \"address3\": null, \"city\": \"Dallas\", \"zip_code\": \"75230\", \"country\": \"US\", \"state\": \"TX\", \"display_address\": [\"7865 Firefall Way\", \"Ste F180\", \"Dallas, TX 75230\"]}, \"phone\": \"\", \"display_phone\": \"\", \"distance\": 5498.853019750272}, {\"id\": \"EMyjN2VQvz-kCg3xlFNWXA\", \"alias\": \"stupid-good-coffee-dallas\", \"name\": \"Stupid Good Coffee\", \"image_url\": \"https://s3-media3.fl.yelpcdn.com/bphoto/dY32wLgriUd96Y_tKw5zIA/o.jpg\", \"is_closed\": false, \"url\": \"https://www.yelp.com/biz/stupid-good-coffee-dallas?adjust_creative=XVCFoRClYrIK9izclSWg7g&utm_campaign=yelp_api_v3&utm_medium=api_v3_business_search&utm_source=XVCFoRClYrIK9izclSWg7g\", \"review_count\": 147, \"categories\": [{\"alias\": \"coffee\", \"title\": \"Coffee & Tea\"}], \"rating\": 4.5, \"coordinates\": {\"latitude\": 32.782646, \"longitude\": -96.7953556}, \"transactions\": [], \"price\": \"$\", \"location\": {\"address1\": \"1910 Pacific Ave\", \"address2\": \"Ste 2060\", \"address3\": \"\", \"city\": \"Dallas\", \"zip_code\": \"75201\", \"country\": \"US\", \"state\": \"TX\", \"display_address\": [\"1910 Pacific Ave\", \"Ste 2060\", \"Dallas, TX 75201\"]}, \"phone\": \"+12143299070\", \"display_phone\": \"(214) 329-9070\", \"distance\": 6289.775042023734}, {\"id\": \"WrO9AN-_vjokJbwmUz2YIw\", \"alias\": \"native-coffee-dallas\", \"name\": \"Native Coffee\", \"image_url\": \"https://s3-media2.fl.yelpcdn.com/bphoto/6ClgrIRNjnLt1CRQN0EVXg/o.jpg\", \"is_closed\": false, \"url\": \"https://www.yelp.com/biz/native-coffee-dallas?adjust_creative=XVCFoRClYrIK9izclSWg7g&utm_campaign=yelp_api_v3&utm_medium=api_v3_business_search&utm_source=XVCFoRClYrIK9izclSWg7g\", \"review_count\": 46, \"categories\": [{\"alias\": \"coffee\", \"title\": \"Coffee & Tea\"}], \"rating\": 4.5, \"coordinates\": {\"latitude\": 32.933333, \"longitude\": -96.83537}, \"transactions\": [], \"location\": {\"address1\": \"4319 Alpha Rd\", \"address2\": null, \"address3\": \"\", \"city\": \"Dallas\", \"zip_code\": \"75244\", \"country\": \"US\", \"state\": \"TX\", \"display_address\": [\"4319 Alpha Rd\", \"Dallas, TX 75244\"]}, \"phone\": \"+12142174744\", \"display_phone\": \"(214) 217-4744\", \"distance\": 10977.428171504847}, {\"id\": \"JL4qoK-p4bTdHbuofC3vtA\", \"alias\": \"sip-stir-coffee-house-dallas-2\", \"name\": \"Sip Stir Coffee House\", \"image_url\": \"https://s3-media4.fl.yelpcdn.com/bphoto/Ftz0kSxe52XOJiKDaFk9_w/o.jpg\", \"is_closed\": false, \"url\": \"https://www.yelp.com/biz/sip-stir-coffee-house-dallas-2?adjust_creative=XVCFoRClYrIK9izclSWg7g&utm_campaign=yelp_api_v3&utm_medium=api_v3_business_search&utm_source=XVCFoRClYrIK9izclSWg7g\", \"review_count\": 452, \"categories\": [{\"alias\": \"coffee\", \"title\": \"Coffee & Tea\"}], \"rating\": 4.5, \"coordinates\": {\"latitude\": 32.8088284, \"longitude\": -96.7955301}, \"transactions\": [], \"price\": \"$$\", \"location\": {\"address1\": \"3800 McKinney Ave\", \"address2\": \"Ste 180\", \"address3\": \"\", \"city\": \"Dallas\", \"zip_code\": \"75204\", \"country\": \"US\", \"state\": \"TX\", \"display_address\": [\"3800 McKinney Ave\", \"Ste 180\", \"Dallas, TX 75204\"]}, \"phone\": \"+19728038444\", \"display_phone\": \"(972) 803-8444\", \"distance\": 3372.58282228647}, {\"id\": \"5XixGiprQxV2GH1-1mXJ5A\", \"alias\": \"cultivar-coffee-bar-and-roaster-dallas-3\", \"name\": \"Cultivar Coffee Bar & Roaster\", \"image_url\": \"https://s3-media3.fl.yelpcdn.com/bphoto/ziS0oH3uL7w93hhmg9KaWg/o.jpg\", \"is_closed\": false, \"url\": \"https://www.yelp.com/biz/cultivar-coffee-bar-and-roaster-dallas-3?adjust_creative=XVCFoRClYrIK9izclSWg7g&utm_campaign=yelp_api_v3&utm_medium=api_v3_business_search&utm_source=XVCFoRClYrIK9izclSWg7g\", \"review_count\": 152, \"categories\": [{\"alias\": \"coffee\", \"title\": \"Coffee & Tea\"}, {\"alias\": \"coffeeroasteries\", \"title\": \"Coffee Roasteries\"}], \"rating\": 4.5, \"coordinates\": {\"latitude\": 32.8391155752565, \"longitude\": -96.697647}, \"transactions\": [], \"price\": \"$\", \"location\": {\"address1\": \"1155 Peavy Rd\", \"address2\": null, \"address3\": \"\", \"city\": \"Dallas\", \"zip_code\": \"75218\", \"country\": \"US\", \"state\": \"TX\", \"display_address\": [\"1155 Peavy Rd\", \"Dallas, TX 75218\"]}, \"phone\": \"+19726777895\", \"display_phone\": \"(972) 677-7895\", \"distance\": 9612.566173526071}, {\"id\": \"e19NW0QokP6VFAkGVErVRA\", \"alias\": \"hands-rose-coffee-dallas-2\", \"name\": \"Hands+Rose Coffee\", \"image_url\": \"https://s3-media4.fl.yelpcdn.com/bphoto/Xu7AaZLzDZKz5weGgNxqfg/o.jpg\", \"is_closed\": false, \"url\": \"https://www.yelp.com/biz/hands-rose-coffee-dallas-2?adjust_creative=XVCFoRClYrIK9izclSWg7g&utm_campaign=yelp_api_v3&utm_medium=api_v3_business_search&utm_source=XVCFoRClYrIK9izclSWg7g\", \"review_count\": 40, \"categories\": [{\"alias\": \"coffee\", \"title\": \"Coffee & Tea\"}], \"rating\": 4.5, \"coordinates\": {\"latitude\": 32.7984520205696, \"longitude\": -96.8281446158691}, \"transactions\": [], \"price\": \"$\", \"location\": {\"address1\": \"1350 Manufacturing St\", \"address2\": \"Ste 111\", \"address3\": \"\", \"city\": \"Dallas\", \"zip_code\": \"75207\", \"country\": \"US\", \"state\": \"TX\", \"display_address\": [\"1350 Manufacturing St\", \"Ste 111\", \"Dallas, TX 75207\"]}, \"phone\": \"+19729148311\", \"display_phone\": \"(972) 914-8311\", \"distance\": 5198.824516765144}, {\"id\": \"YIhFGjkzYVq2QLhpDA1g0Q\", \"alias\": \"civil-pour-dallas\", \"name\": \"Civil Pour\", \"image_url\": \"https://s3-media2.fl.yelpcdn.com/bphoto/ofjI7XN4SHYt__nluS5-BA/o.jpg\", \"is_closed\": false, \"url\": \"https://www.yelp.com/biz/civil-pour-dallas?adjust_creative=XVCFoRClYrIK9izclSWg7g&utm_campaign=yelp_api_v3&utm_medium=api_v3_business_search&utm_source=XVCFoRClYrIK9izclSWg7g\", \"review_count\": 174, \"categories\": [{\"alias\": \"coffee\", \"title\": \"Coffee & Tea\"}, {\"alias\": \"beerbar\", \"title\": \"Beer Bar\"}, {\"alias\": \"sandwiches\", \"title\": \"Sandwiches\"}], \"rating\": 4.5, \"coordinates\": {\"latitude\": 32.882117, \"longitude\": -96.767348}, \"transactions\": [], \"price\": \"$\", \"location\": {\"address1\": \"8061 Walnut Hill Ln\", \"address2\": \"Ste 924\", \"address3\": \"\", \"city\": \"Dallas\", \"zip_code\": \"75231\", \"country\": \"US\", \"state\": \"TX\", \"display_address\": [\"8061 Walnut Hill Ln\", \"Ste 924\", \"Dallas, TX 75231\"]}, \"phone\": \"+19722900216\", \"display_phone\": \"(972) 290-0216\", \"distance\": 5705.220984297786}], \"total\": 3500, \"region\": {\"center\": {\"longitude\": -96.800537109375, \"latitude\": 32.839043482398054}}}\n"
     ]
    }
   ],
   "source": [
    "print(dfw.text)"
   ]
  },
  {
   "cell_type": "markdown",
   "metadata": {},
   "source": [
    "## Pagination\n",
    "\n",
    "Now that you have an initial response, you can examine the contents of the json container. For example, you might start with ```response.json().keys()```. Here, you'll see a key for `'total'`, which tells you the full number of matching results given your query parameters. Write a loop (or ideally a function) which then makes successive API calls using the offset parameter to retrieve all of the results (or 5000 for a particularly large result set) for the original query. As you do this, be mindful of how you store the data. Your final goal will be to reformat the data concerning the businesses themselves into a pandas DataFrame from the json objects.\n",
    "\n",
    "**Note: be mindful of the API rate limits. You can only make 5000 requests per day, and are also can make requests too fast. Start prototyping small before running a loop that could be faulty. You can also use time.sleep(n) to add delays. For more details see https://www.yelp.com/developers/documentation/v3/rate_limiting.**"
   ]
  },
  {
   "cell_type": "code",
   "execution_count": null,
   "metadata": {},
   "outputs": [],
   "source": [
    "# Your code here; use a function or loop to retrieve all the results from your original request"
   ]
  },
  {
   "cell_type": "markdown",
   "metadata": {},
   "source": [
    "## Exploratory Analysis\n",
    "\n",
    "Take the restaurants from the previous question and do an initial exploratory analysis. At minimum, this should include looking at the distribution of features such as price, rating and number of reviews as well as the relations between these dimensions."
   ]
  },
  {
   "cell_type": "code",
   "execution_count": null,
   "metadata": {},
   "outputs": [],
   "source": [
    "#Your code here"
   ]
  },
  {
   "cell_type": "markdown",
   "metadata": {},
   "source": [
    "## Mapping\n",
    "\n",
    "Look at the initial Yelp example and try and make a map using Folium of the restaurants you retrieved. Be sure to also add popups to the markers giving some basic information such as name, rating and price."
   ]
  },
  {
   "cell_type": "code",
   "execution_count": null,
   "metadata": {},
   "outputs": [],
   "source": [
    "#Your code here"
   ]
  },
  {
   "cell_type": "markdown",
   "metadata": {},
   "source": [
    "## Summary\n",
    "\n",
    "Nice work! In this lab, you synthesized your skills for the day, making multiple API calls to Yelp in order to paginate through a results set, performing some basic exploratory analysis and then creating a nice map visual to display the results! Well done!"
   ]
  }
 ],
 "metadata": {
  "kernelspec": {
   "display_name": "Python 3",
   "language": "python",
   "name": "python3"
  },
  "language_info": {
   "codemirror_mode": {
    "name": "ipython",
    "version": 3
   },
   "file_extension": ".py",
   "mimetype": "text/x-python",
   "name": "python",
   "nbconvert_exporter": "python",
   "pygments_lexer": "ipython3",
   "version": "3.7.1"
  }
 },
 "nbformat": 4,
 "nbformat_minor": 2
}
